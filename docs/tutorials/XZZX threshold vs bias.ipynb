{
 "cells": [
  {
   "cell_type": "markdown",
   "id": "d020355b-143b-4881-88b5-f6af4c1da66d",
   "metadata": {
    "tags": []
   },
   "source": [
    "# XZZX threshold vs bias"
   ]
  },
  {
   "cell_type": "markdown",
   "id": "cf914f35-53a4-42a1-b827-d3d4bebf2cd8",
   "metadata": {},
   "source": [
    "The XZZX surface code introduced in [Bonilla Atiades, Tuckett, Bartlett, Flammia and Brown 2021](https://arxiv.org/abs/2009.07851) is an example of a Clifford-deformed variant of the 2D surface code with ultra-high thresholds for Pauli noise under high bias.\n",
    "In this tutorial, we explore how to use PanQEC to compute the threshold error rates of the XZZX surface code and the CSS surface code under Pauli noise of different values of bias.\n",
    "The goal is to produce a plot of the threshold physical error rate vs the Pauli channel $Z$ bias for both the CSS surface code and the XZZX surface code for their performance to be compared.\n",
    "\n",
    "The CSS toric code is found in PanQEC as the class [panqec.codes.Toric2DCode](/codes.html#panqec.codes.surface_2d.Toric2DCode).\n",
    "\n",
    "A one-qubit Pauli channel takes the form\n",
    "$$\\mathcal{E}(\\rho)  = (1 - p) \\rho + p (r_X X \\rho X + r_Y Y \\rho Y + r_z Z \\rho Z)$$\n",
    "where $p$ is the physical error rate and $r_X, r_Y, r_Z\\in [0, 1]$ are parameters such that  $r_X + r_Y + r_Z=1$.\n",
    "Physically, this means that when this channel is applied on a qubit,\n",
    "with probably $p$ an error will occur,\n",
    "which could be either Pauli $X,Y,Z$ with probability $r_X,r_Y,r_Z$.\n",
    "This error model is included in PanQEC as [panqec.error_models.PauliErrorModel](/error_models.html#panqec.error_models.PauliErrorModel).\n",
    "\n",
    "When using the matching decoder, we have already shown how to use PanQEC to compute the threshold error rate for the CSS toric code under biased noise in the previous tutorial\n",
    "[Computing the threshold of the surface code](/tutorials/Computing%20threshold.html).\n",
    "\n",
    "However, this time we will use the BP-OSD decoder ([Pantaleev and Kalachev 2021](http://arxiv.org/abs/1904.02703) and [Roffe, White, Burton and Campbell 2020](https://arxiv.org/abs/2005.07016)),\n",
    "in particular the [opne-source Roffe implementation](https://github.com/quantumgizmos/bp_osd),\n",
    "which is included with PanQEC as [panqec.decoders.BeliefPropagationOSDDecoder](/decoders.html#panqec.decoders.BeliefPropagationOSDDecoder)"
   ]
  },
  {
   "cell_type": "code",
   "execution_count": null,
   "id": "51c053e8-4cf3-496d-a736-1921ecbde9c7",
   "metadata": {},
   "outputs": [],
   "source": []
  },
  {
   "cell_type": "markdown",
   "id": "902b486c-aea1-4e55-adf7-69dcc0ebd125",
   "metadata": {},
   "source": [
    "## References"
   ]
  },
  {
   "cell_type": "code",
   "execution_count": null,
   "id": "f510ed32-1221-42f0-9afe-1d29158f39d2",
   "metadata": {},
   "outputs": [],
   "source": []
  }
 ],
 "metadata": {
  "kernelspec": {
   "display_name": "Python 3 (ipykernel)",
   "language": "python",
   "name": "python3"
  },
  "language_info": {
   "codemirror_mode": {
    "name": "ipython",
    "version": 3
   },
   "file_extension": ".py",
   "mimetype": "text/x-python",
   "name": "python",
   "nbconvert_exporter": "python",
   "pygments_lexer": "ipython3",
   "version": "3.10.8"
  }
 },
 "nbformat": 4,
 "nbformat_minor": 5
}
