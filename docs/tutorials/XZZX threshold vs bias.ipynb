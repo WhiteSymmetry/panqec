{
 "cells": [
  {
   "cell_type": "markdown",
   "id": "d020355b-143b-4881-88b5-f6af4c1da66d",
   "metadata": {
    "tags": []
   },
   "source": [
    "# XZZX threshold vs bias"
   ]
  },
  {
   "cell_type": "markdown",
   "id": "cf914f35-53a4-42a1-b827-d3d4bebf2cd8",
   "metadata": {},
   "source": [
    "The XZZX surface code introduced in [Bonilla Atiades, Tuckett, Bartlett, Flammia and Brown 2021](https://arxiv.org/abs/2009.07851) is an example of a Clifford-deformed variant of the 2D surface code with ultra-high thresholds for Pauli noise under high bias.\n",
    "In this tutorial, we explore how to use PanQEC to compute the threshold error rates of the XZZX surface code and the CSS surface code under Pauli noise of different values of bias.\n",
    "The goal is to produce a plot of the threshold physical error rate vs the Pauli channel $Z$ bias for both the CSS surface code and the XZZX surface code for their performance to be compared.\n",
    "\n",
    "The CSS toric code is found in PanQEC as the class [panqec.codes.Toric2DCode](/codes.html#panqec.codes.surface_2d.Toric2DCode)."
   ]
  },
  {
   "cell_type": "code",
   "execution_count": 17,
   "id": "86ceaac1-c10c-4431-93e8-d6ae18cff2f4",
   "metadata": {
    "tags": []
   },
   "outputs": [],
   "source": [
    "from panqec.codes import Toric2DCode"
   ]
  },
  {
   "cell_type": "markdown",
   "id": "b50accd7-99ba-477f-8931-2d883af9f6bc",
   "metadata": {
    "tags": []
   },
   "source": [
    "A one-qubit Pauli channel takes the form\n",
    "$$\\mathcal{E}(\\rho)  = (1 - p) \\rho + p (r_X X \\rho X + r_Y Y \\rho Y + r_z Z \\rho Z)$$\n",
    "where $p$ is the physical error rate and $r_X, r_Y, r_Z\\in [0, 1]$ are parameters such that  $r_X + r_Y + r_Z=1$.\n",
    "Physically, this means that when this channel is applied on a qubit,\n",
    "with probably $p$ an error will occur,\n",
    "which could be either Pauli $X,Y,Z$ with probability $r_X,r_Y,r_Z$.\n",
    "This error model is included in PanQEC as [panqec.error_models.PauliErrorModel](/error_models.html#panqec.error_models.PauliErrorModel)."
   ]
  },
  {
   "cell_type": "code",
   "execution_count": 15,
   "id": "2e38eb04-e88d-4771-b8b7-4616b0a8499f",
   "metadata": {
    "tags": []
   },
   "outputs": [],
   "source": [
    "from panqec.error_models import PauliErrorModel"
   ]
  },
  {
   "cell_type": "markdown",
   "id": "9797d1af-0798-4cc1-ae39-f32c6ea8331f",
   "metadata": {},
   "source": [
    "The _bias_ of a channel is the ratio\n",
    "$$\\eta_Z = \\frac{r_Z}{r_X + r_Y}$$\n",
    "For a depolarizing channel $\\eta_Z=0.5$ and for a dephasing channel $\\eta_Z=\\infty$.\n",
    "For this tutorial,\n",
    "we will assume that $r_X=r_Y$ so then\n",
    "$$\\eta_Z = \\frac{r_Z}{2r_X}$$"
   ]
  },
  {
   "cell_type": "markdown",
   "id": "72dcd118-8179-4f57-b13a-05cf03eac009",
   "metadata": {
    "tags": []
   },
   "source": [
    "When using the matching decoder, we have already shown how to use PanQEC to compute the threshold error rate for the CSS toric code under biased noise in the previous tutorial\n",
    "[Computing the threshold of the surface code](/tutorials/Computing%20threshold.html).\n",
    "\n",
    "However, this time we will use the BP-OSD decoder ([Pantaleev and Kalachev 2021](http://arxiv.org/abs/1904.02703) and [Roffe, White, Burton and Campbell 2020](https://arxiv.org/abs/2005.07016)),\n",
    "in particular the [open-source Roffe implementation](https://github.com/quantumgizmos/bp_osd),\n",
    "which is included with PanQEC as [panqec.decoders.BeliefPropagationOSDDecoder](/decoders.html#panqec.decoders.BeliefPropagationOSDDecoder)"
   ]
  },
  {
   "cell_type": "code",
   "execution_count": 20,
   "id": "c45478f8-6b36-4da4-8b46-eaea2c64323d",
   "metadata": {
    "tags": []
   },
   "outputs": [],
   "source": [
    "from panqec.decoders import BeliefPropagationOSDDecoder"
   ]
  },
  {
   "cell_type": "markdown",
   "id": "598c3a90-de59-43ce-b8c3-c39a9dff5ac4",
   "metadata": {},
   "source": [
    "Since we already have a working decoder and CSS code,\n",
    "it is convenient to not to have to rewrite the decoder and code when studying the Clifford-deformed XZZX code,\n",
    "which is merely related to the CSS surface code by a Hadamard on every qubit along a particular axis.\n",
    "\n",
    "As such, to simplify the simulations and reuse the existing code and decoder,\n",
    "instead of deforming the code,\n",
    "we can deform the noise model,\n",
    "which will give equivalent statistics.\n",
    "Luckily in the PanQEC,\n",
    "deformations of codes can be specified in the class definition of the code itself.\n",
    "We can view what deformations are available for the code."
   ]
  },
  {
   "cell_type": "code",
   "execution_count": 21,
   "id": "be882689-c35d-4340-92b0-f61da1c99770",
   "metadata": {
    "tags": []
   },
   "outputs": [
    {
     "data": {
      "text/plain": [
       "['XZZX', 'XY']"
      ]
     },
     "execution_count": 21,
     "metadata": {},
     "output_type": "execute_result"
    }
   ],
   "source": [
    "Toric2DCode.deformation_names"
   ]
  },
  {
   "cell_type": "markdown",
   "id": "554a9412-eef1-49ed-b19d-54f546da9e03",
   "metadata": {},
   "source": [
    "We can see that we have two deformations implemented,\n",
    "namely the XZZX deformation and the XY deformation ([Tuckett, Bartlett and Flammia 2017](https://arxiv.org/abs/1708.08474))."
   ]
  },
  {
   "cell_type": "markdown",
   "id": "04ffedff-4fd1-4515-a47e-720ad794fb6c",
   "metadata": {},
   "source": [
    "We can now specify this in the input data in the `error_model` attribute."
   ]
  },
  {
   "cell_type": "code",
   "execution_count": 23,
   "id": "3cf6daa8-556e-43f0-b787-2c6bb423c475",
   "metadata": {},
   "outputs": [],
   "source": [
    "import numpy as np\n",
    "input_data = {\n",
    "    'ranges': {\n",
    "        'label': 'Toric 2D Experiment',  # Can be any name you want\n",
    "        'code': {\n",
    "            'name': 'Toric2DCode',  # Class name of the code\n",
    "            'parameters': [{'L_x': 6}, {'L_x': 12}, {'L_x': 24}]\n",
    "        },\n",
    "        'error_model': {\n",
    "            'name': 'PauliErrorModel',  # Class name of the error model\n",
    "            'parameters': [\n",
    "                {'r_x': 1/3, 'r_y': 1/3, 'r_z': 1/3, 'deformation_name': 'XZZX'}  # Ratios of X, Y and Z errors\n",
    "            ],\n",
    "        },\n",
    "        'decoder': {\n",
    "            'name': 'MatchingDecoder',  # Class name of the decoder\n",
    "            'parameters': [{}]\n",
    "        },\n",
    "        'error_rate': np.linspace(0.1, 0.2, 10).tolist()  # List of physical error rates\n",
    "    }\n",
    "}"
   ]
  },
  {
   "cell_type": "markdown",
   "id": "543dec88-b806-4c44-9d51-ae4d8b06777e",
   "metadata": {
    "tags": []
   },
   "source": [
    "However, we want to do many values of bias."
   ]
  },
  {
   "cell_type": "code",
   "execution_count": 11,
   "id": "53e5f19c-9fd1-4bf0-9a3c-8fa920a1fbfe",
   "metadata": {
    "tags": []
   },
   "outputs": [],
   "source": [
    "from panqec.utils import get_direction_from_bias_ratio\n",
    "get_direction_from_bias_ratio('Z', 10)"
   ]
  },
  {
   "cell_type": "code",
   "execution_count": 27,
   "id": "aa8e5911-7505-47c0-af65-4c22e426acde",
   "metadata": {
    "tags": []
   },
   "outputs": [
    {
     "data": {
      "text/plain": [
       "[{'r_x': 0.33333333333333337,\n",
       "  'r_y': 0.33333333333333337,\n",
       "  'r_z': 0.3333333333333333},\n",
       " {'r_x': 0.04545454545454547,\n",
       "  'r_y': 0.04545454545454547,\n",
       "  'r_z': 0.9090909090909091},\n",
       " {'r_x': 0.004950495049504955,\n",
       "  'r_y': 0.004950495049504955,\n",
       "  'r_z': 0.9900990099009901},\n",
       " {'r_x': 0.0, 'r_y': 0.0, 'r_z': 1.0}]"
      ]
     },
     "execution_count": 27,
     "metadata": {},
     "output_type": "execute_result"
    }
   ],
   "source": [
    "[get_direction_from_bias_ratio('Z', eta) for eta in [0.5, 10, 100, np.inf]]"
   ]
  },
  {
   "cell_type": "code",
   "execution_count": 1,
   "id": "655582e1-9f77-439b-b0ef-f7529a5d85ba",
   "metadata": {
    "tags": []
   },
   "outputs": [],
   "source": [
    "from tqdm import tqdm"
   ]
  },
  {
   "cell_type": "code",
   "execution_count": 3,
   "id": "215b1e01-baac-4125-b4e0-d45ae4c6d3d6",
   "metadata": {
    "tags": []
   },
   "outputs": [],
   "source": [
    "from panqec.simulation import read_input_dict\n",
    "from panqec.analysis import Analysis"
   ]
  },
  {
   "cell_type": "code",
   "execution_count": 7,
   "id": "50c1152b-822e-4554-9afc-1e7020a74c5e",
   "metadata": {
    "tags": []
   },
   "outputs": [
    {
     "name": "stdout",
     "output_type": "stream",
     "text": [
      "Start batch simulation instance\n"
     ]
    }
   ],
   "source": [
    "plot_frequency = 20  # Frequency of plot update\n",
    "save_frequency = 10  # Frequency of saving to file\n",
    "n_trials = 500  # Target number of Monte Carlo runs\n",
    "\n",
    "# We create a BatchSimulation by reading the input dictionary\n",
    "batch_sim = read_input_dict(\n",
    "    input_data,\n",
    "    output_file='xzzx-2d-results.json',  # Where to store the simulation results\n",
    "    update_frequency=plot_frequency,\n",
    "    save_frequency=save_frequency\n",
    ")\n",
    "\n",
    "# Live update of the plot during the simulation\n",
    "# (only works in Jupyter notebooks)\n",
    "batch_sim.activate_live_update()"
   ]
  },
  {
   "cell_type": "code",
   "execution_count": null,
   "id": "bf537f3f-e80a-482e-ab9e-0095c4933aae",
   "metadata": {
    "tags": []
   },
   "outputs": [],
   "source": [
    "batch_sim.run(n_trials, progress=tqdm)"
   ]
  },
  {
   "cell_type": "code",
   "execution_count": 9,
   "id": "38e7a74a-b902-416e-a700-73255ae44118",
   "metadata": {
    "tags": []
   },
   "outputs": [],
   "source": [
    "analysis = Analysis(\"toric-2d-results.json\")"
   ]
  },
  {
   "cell_type": "code",
   "execution_count": null,
   "id": "39cd0809-805f-461c-90b5-8da9ebd15ff4",
   "metadata": {
    "tags": []
   },
   "outputs": [],
   "source": [
    "analysis.make_collapse_plots()"
   ]
  },
  {
   "cell_type": "code",
   "execution_count": null,
   "id": "c58da9d7-36c0-469f-b3b2-2b0fab481270",
   "metadata": {},
   "outputs": [],
   "source": []
  }
 ],
 "metadata": {
  "kernelspec": {
   "display_name": "Python 3 (ipykernel)",
   "language": "python",
   "name": "python3"
  },
  "language_info": {
   "codemirror_mode": {
    "name": "ipython",
    "version": 3
   },
   "file_extension": ".py",
   "mimetype": "text/x-python",
   "name": "python",
   "nbconvert_exporter": "python",
   "pygments_lexer": "ipython3",
   "version": "3.10.8"
  }
 },
 "nbformat": 4,
 "nbformat_minor": 5
}
